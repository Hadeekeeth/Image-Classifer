{
  "nbformat": 4,
  "nbformat_minor": 0,
  "metadata": {
    "colab": {
      "name": "Copy of Calssify_Flower.ipynb",
      "provenance": []
    },
    "kernelspec": {
      "name": "python3",
      "display_name": "Python 3"
    },
    "accelerator": "GPU"
  },
  "cells": [
    {
      "cell_type": "code",
      "metadata": {
        "id": "yL7uMwVG0TwA",
        "colab_type": "code",
        "colab": {}
      },
      "source": [
        "# Imports here\n",
        "from torch import tensor\n",
        "from torch import nn\n",
        "import torchvision\n",
        "import torch\n",
        "import torch.nn.functional as F\n",
        "#from torch.utils.data import DataLoader\n",
        "from torchvision import datasets,transforms,models\n",
        "from torch import optim\n",
        "import numpy as np\n",
        "import pandas as pd\n",
        "import matplotlib.pyplot as plt\n",
        "from collections import OrderedDict\n",
        "from torch.autograd import Variable\n",
        "from PIL import Image\n",
        "import os, random"
      ],
      "execution_count": 0,
      "outputs": []
    },
    {
      "cell_type": "code",
      "metadata": {
        "id": "fXntV5AtKTnK",
        "colab_type": "code",
        "outputId": "d86b1180-427c-4802-b45b-cf78c967ec09",
        "colab": {
          "base_uri": "https://localhost:8080/",
          "height": 129
        }
      },
      "source": [
        "from google.colab import drive\n",
        "drive.mount('/content/drive')"
      ],
      "execution_count": 4,
      "outputs": [
        {
          "output_type": "stream",
          "text": [
            "Go to this URL in a browser: https://accounts.google.com/o/oauth2/auth?client_id=947318989803-6bn6qk8qdgf4n4g3pfee6491hc0brc4i.apps.googleusercontent.com&redirect_uri=urn%3Aietf%3Awg%3Aoauth%3A2.0%3Aoob&scope=email%20https%3A%2F%2Fwww.googleapis.com%2Fauth%2Fdocs.test%20https%3A%2F%2Fwww.googleapis.com%2Fauth%2Fdrive%20https%3A%2F%2Fwww.googleapis.com%2Fauth%2Fdrive.photos.readonly%20https%3A%2F%2Fwww.googleapis.com%2Fauth%2Fpeopleapi.readonly&response_type=code\n",
            "\n",
            "Enter your authorization code:\n",
            "··········\n",
            "Mounted at /content/drive\n"
          ],
          "name": "stdout"
        }
      ]
    },
    {
      "cell_type": "code",
      "metadata": {
        "id": "CqJQbcGw0nxA",
        "colab_type": "code",
        "colab": {}
      },
      "source": [
        "data_dir = 'drive/My Drive/Colab Notebooks/flower_data'\n",
        "train_dir = data_dir + '/train'\n",
        "valid_dir = data_dir + '/valid'\n",
        "test_dir = data_dir + '/test'"
      ],
      "execution_count": 0,
      "outputs": []
    },
    {
      "cell_type": "code",
      "metadata": {
        "id": "FO5Gp8h40oUv",
        "colab_type": "code",
        "colab": {}
      },
      "source": [
        "# TODO: Define your transforms for the training, validation, and testing sets\n",
        " \n",
        "train_transforms = transforms.Compose([transforms.RandomRotation(50),\n",
        "                                           transforms.RandomResizedCrop(224),\n",
        "                                           transforms.RandomHorizontalFlip(),\n",
        "                                           transforms.ToTensor(),\n",
        "                                           transforms.Normalize([0.485, 0.456, 0.406],\n",
        "                                                                [0.229, 0.224, 0.225])])\n",
        "\n",
        "\n",
        "test_transforms = transforms.Compose([transforms.Resize(256),\n",
        "                                          transforms.CenterCrop(224),\n",
        "                                          transforms.ToTensor(),\n",
        "                                          transforms.Normalize([0.485, 0.456, 0.406],\n",
        "                                                               [0.229, 0.224, 0.225])])\n",
        "\n",
        "validation_transforms = transforms.Compose([transforms.Resize(256),\n",
        "                                                transforms.CenterCrop(224),\n",
        "                                                transforms.ToTensor(),\n",
        "                                                transforms.Normalize([0.485, 0.456, 0.406],\n",
        "                                                                     [0.229, 0.224, 0.225])])\n",
        "\n",
        "\n",
        "# TODO: Load the datasets with ImageFolder\n",
        "\n",
        "train_data = datasets.ImageFolder(train_dir, transform=train_transforms)\n",
        "validation_data = datasets.ImageFolder(valid_dir, transform=validation_transforms)\n",
        "test_data = datasets.ImageFolder(test_dir ,transform = test_transforms)\n",
        "\n",
        "# TODO: Using the image datasets and the trainforms, define the dataloaders\n",
        "\n",
        "trainloader = torch.utils.data.DataLoader(train_data, batch_size=64, shuffle=True)\n",
        "vloader = torch.utils.data.DataLoader(validation_data, batch_size =32,shuffle = True)\n",
        "testloader = torch.utils.data.DataLoader(test_data, batch_size = 32, shuffle = True)\n",
        "\n",
        "data_transforms = [train_transforms,validation_transforms,test_transforms,]\n",
        "image_datasets = [train_data,validation_data,test_data]\n",
        "dataloaders = [trainloader, vloader, testloader]"
      ],
      "execution_count": 0,
      "outputs": []
    },
    {
      "cell_type": "code",
      "metadata": {
        "id": "we6jPUOF0o5q",
        "colab_type": "code",
        "colab": {}
      },
      "source": [
        "import json\n",
        "\n",
        "with open('drive/My Drive/Colab Notebooks/cat_to_name.json', 'r') as f:\n",
        "    cat_to_name = json.load(f)"
      ],
      "execution_count": 0,
      "outputs": []
    },
    {
      "cell_type": "code",
      "metadata": {
        "id": "slvL7PnB0pRy",
        "colab_type": "code",
        "outputId": "cdd2a90b-bb3e-4b56-9cb7-959eb2c06149",
        "colab": {
          "base_uri": "https://localhost:8080/",
          "height": 54
        }
      },
      "source": [
        "# TODO: Build and train your network\n",
        "# Loading pretrained model - VGG 19\n",
        "model = models.vgg19(pretrained=True)\n",
        "\n",
        "\n",
        "for param in model.parameters():\n",
        "    param.requires_grad = False"
      ],
      "execution_count": 8,
      "outputs": [
        {
          "output_type": "stream",
          "text": [
            "Downloading: \"https://download.pytorch.org/models/vgg19-dcbb9e9d.pth\" to /root/.cache/torch/checkpoints/vgg19-dcbb9e9d.pth\n",
            "100%|██████████| 548M/548M [00:05<00:00, 105MB/s]\n"
          ],
          "name": "stderr"
        }
      ]
    },
    {
      "cell_type": "code",
      "metadata": {
        "id": "3T8ACWSsDCnq",
        "colab_type": "code",
        "colab": {}
      },
      "source": [
        "# Define a new, untrained feed-forward network as a classifier, using ReLU activations and dropout\n",
        "classifier = nn.Sequential(OrderedDict([\n",
        "                          ('fc1', nn.Linear(25088, 1024)),\n",
        "                          ('drop', nn.Dropout(p=0.5)),\n",
        "                          ('relu', nn.ReLU()),\n",
        "                          ('fc2', nn.Linear(1024, 102)),\n",
        "                          ('output', nn.LogSoftmax(dim=1))\n",
        "                          ]))\n",
        "    \n",
        "model.classifier = classifier"
      ],
      "execution_count": 0,
      "outputs": []
    },
    {
      "cell_type": "code",
      "metadata": {
        "id": "5mI-kTcxDDrG",
        "colab_type": "code",
        "outputId": "11428243-0ab4-4cb3-eaa6-fb283aee4f09",
        "colab": {
          "base_uri": "https://localhost:8080/",
          "height": 35
        }
      },
      "source": [
        "# Train the classifier layers using backpropagation using the pre-trained network to get the features\n",
        "criterion = nn.CrossEntropyLoss()\n",
        "optimizer = optim.SGD(model.classifier.parameters(), lr=0.01)\n",
        "\n",
        "epochs = 5\n",
        "steps = 0\n",
        "cuda = torch.cuda.is_available()\n",
        "\n",
        "if cuda:\n",
        "    model.cuda()\n",
        "else:\n",
        "    model.cpu()\n",
        "    \n",
        "running_loss = 0\n",
        "accuracy = 0\n",
        "\n",
        "print('Training starts...')\n",
        "\n",
        "for e in range(epochs):\n",
        "    \n",
        "    train_mode = 0\n",
        "    valid_mode = 1\n",
        "    \n",
        "    for mode in [train_mode, valid_mode]:   \n",
        "        if mode == train_mode:\n",
        "            model.train()\n",
        "        else:\n",
        "            model.eval()\n",
        "            \n",
        "        pass_count = 0\n",
        "\n",
        "        for data in dataloaders[mode]:\n",
        "            pass_count += 1\n",
        "            steps += 1\n",
        "            inputs, labels = data\n",
        "            if cuda == True:\n",
        "                inputs, labels = Variable(inputs.cuda()), Variable(labels.cuda())\n",
        "            else:\n",
        "                inputs, labels = Variable(inputs), Variable(labels)\n",
        "\n",
        "            optimizer.zero_grad()\n",
        "            # Forward\n",
        "            output = model.forward(inputs.cuda())\n",
        "            \n",
        "            loss = criterion(output, labels)\n",
        "            # Backward\n",
        "            if mode == train_mode:\n",
        "                loss.backward()\n",
        "                optimizer.step()                \n",
        "\n",
        "            running_loss += loss.item()\n",
        "            ps = torch.exp(output).data\n",
        "            equality = (labels.data == ps.max(1)[1])\n",
        "            accuracy = equality.type_as(torch.FloatTensor()).mean()\n",
        "\n",
        "        if mode == train_mode:\n",
        "            \n",
        "            print(\"\\nEpoch: {}/{} \".format(e+1, epochs),\n",
        "                  \"\\nTraining Loss: {:.4f}  \".format(running_loss/pass_count))\n",
        "        else:\n",
        "            print(\"Validation Loss: {:.4f}  \".format(running_loss/pass_count),\n",
        "            \"Accuracy: {:.4f}\".format(accuracy))\n",
        "\n",
        "        running_loss = 0\n",
        "                "
      ],
      "execution_count": 0,
      "outputs": [
        {
          "output_type": "stream",
          "text": [
            "Training starts...\n"
          ],
          "name": "stdout"
        }
      ]
    },
    {
      "cell_type": "code",
      "metadata": {
        "id": "0-TzFvpkJuC2",
        "colab_type": "code",
        "colab": {}
      },
      "source": [
        "# TODO: Do validation on the test set\n",
        "\n",
        "model.eval()\n",
        "accuracy = 0\n",
        "cuda = torch.cuda.is_available()\n",
        "\n",
        "if cuda:\n",
        "    model.cuda()\n",
        "else:\n",
        "    model.cpu()\n",
        "    \n",
        "pass_count = 0\n",
        "\n",
        "for data in dataloaders[2]:\n",
        "    pass_count += 1\n",
        "    #images, labels = data\n",
        "    \n",
        "    if cuda == True:\n",
        "        images, labels = Variable(images.cuda()), Variable(labels.cuda())\n",
        "    else:\n",
        "        images, labels = Variable(images), Variable(labels)\n",
        "\n",
        "    output = model.forward(images.cuda())\n",
        "    prob = torch.exp(output).data\n",
        "    equality = (labels.data == prob.max(1)[1])\n",
        "    accuracy += equality.type_as(torch.FloatTensor()).mean()\n",
        "\n",
        "print(\"Testing Accuracy: {:.4f}\".format(accuracy/pass_count))"
      ],
      "execution_count": 0,
      "outputs": []
    },
    {
      "cell_type": "code",
      "metadata": {
        "id": "wNzQ2EQQcbFY",
        "colab_type": "code",
        "colab": {}
      },
      "source": [
        "# TODO: Save the checkpoint \n",
        "\n",
        "model.class_to_idx = image_datasets[0].class_to_idx\n",
        "\n",
        "checkpoint = {'input_size': 25088,\n",
        "              'output_size': 102,\n",
        "              'model': 'vgg19',\n",
        "              'learning_rate': 0.01,\n",
        "              'batch_size': 64,\n",
        "              'classifier' : classifier,\n",
        "              'epochs': epochs,\n",
        "              'optimizer': optimizer.state_dict(),\n",
        "              'state_dict': model.state_dict(),\n",
        "              'class_to_idx': model.class_to_idx}\n",
        "\n",
        "torch.save(checkpoint, 'checkpoint.pth')\n",
        "\n"
      ],
      "execution_count": 0,
      "outputs": []
    },
    {
      "cell_type": "code",
      "metadata": {
        "id": "G1OFkM-migji",
        "colab_type": "code",
        "colab": {}
      },
      "source": [
        "# TODO: Write a function that loads a checkpoint and rebuilds the model\n",
        "\n",
        "def load_checkpoint(filename):\n",
        "    checkpoint = torch.load(filename)\n",
        "    learning_rate = checkpoint['learning_rate']\n",
        "    model = getattr(torchvision.models, checkpoint['model'])(pretrained=True)\n",
        "    model.classifier = checkpoint['classifier']\n",
        "    model.epochs = checkpoint['epochs']\n",
        "    model.load_state_dict(checkpoint['state_dict'])\n",
        "    model.class_to_idx = checkpoint['class_to_idx']\n",
        "    optimizer.load_state_dict(checkpoint['optimizer'])\n",
        "        \n",
        "    return model, optimizer"
      ],
      "execution_count": 0,
      "outputs": []
    },
    {
      "cell_type": "code",
      "metadata": {
        "id": "NIC7w3ArccMr",
        "colab_type": "code",
        "colab": {}
      },
      "source": [
        "filename = 'checkpoint.pth'\n",
        "\n",
        "model, optimizer = load_checkpoint(filename)\n",
        "\n"
      ],
      "execution_count": 0,
      "outputs": []
    },
    {
      "cell_type": "code",
      "metadata": {
        "id": "gme-7-lEcdFB",
        "colab_type": "code",
        "colab": {}
      },
      "source": [
        "\n",
        "\n",
        "def process_image(image):\n",
        "    ''' Scales, crops, and normalizes a PIL image for a PyTorch model,\n",
        "        returns an Numpy array\n",
        "    '''\n",
        "    \n",
        "    # TODO: Process a PIL image for use in a PyTorch model\n",
        "    \n",
        "    img_pil = Image.open(image)\n",
        "   \n",
        "    adjustments = transforms.Compose([\n",
        "        transforms.Resize(256),\n",
        "        transforms.CenterCrop(224),\n",
        "        transforms.ToTensor(),\n",
        "        transforms.Normalize(mean=[0.485, 0.456, 0.406], std=[0.229, 0.224, 0.225])\n",
        "    ])\n",
        "    \n",
        "    img_tensor = adjustments(img_pil)\n",
        "    \n",
        "    return img_tensor\n",
        "    \n",
        "    \n",
        "\n",
        "\n",
        "img = (data_dir + '/test' + '/1/' + 'image_06752.jpg')\n",
        "img = process_image(img)\n",
        "\n",
        "\n"
      ],
      "execution_count": 0,
      "outputs": []
    },
    {
      "cell_type": "code",
      "metadata": {
        "id": "FfI8GHqlcd4V",
        "colab_type": "code",
        "colab": {}
      },
      "source": [
        "def imshow(image, ax=None, title=None):\n",
        "    \"\"\"Imshow for Tensor.\"\"\"\n",
        "    if ax is None:\n",
        "        fig, ax = plt.subplots()\n",
        "    \n",
        "    # PyTorch tensors assume the color channel is the first dimension\n",
        "    # but matplotlib assumes is the third dimension\n",
        "    image = image.numpy().transpose((1, 2, 0))\n",
        "    \n",
        "    # Undo preprocessing\n",
        "    mean = np.array([0.485, 0.456, 0.406])\n",
        "    std = np.array([0.229, 0.224, 0.225])\n",
        "    image = std * image + mean\n",
        "    \n",
        "    # Image needs to be clipped between 0 and 1 or it looks like noise when displayed\n",
        "    image = np.clip(image, 0, 1)\n",
        "    \n",
        "    ax.imshow(image)\n",
        "    \n",
        "    return ax"
      ],
      "execution_count": 0,
      "outputs": []
    },
    {
      "cell_type": "code",
      "metadata": {
        "id": "v-Z4Vn9i6cUZ",
        "colab_type": "code",
        "colab": {}
      },
      "source": [
        "def predict(image_path, model, topk=5):\n",
        "    ''' Predict the class (or classes) of an image using a trained deep learning model.\n",
        "    '''\n",
        "    \n",
        "    # TODO: Implement the code to predict the class from an image file\n",
        "    \n",
        "    model.eval()\n",
        "\n",
        "    # Process the image\n",
        "    img_torch = process_image(image_path)\n",
        "    \n",
        "    # Convert to tensor\n",
        "    img_torch = img_torch.unsqueeze_(0)\n",
        "    img_torch = img_torch.float()\n",
        "    \n",
        "    # The image becomes the input\n",
        "    \n",
        "    cuda = torch.cuda.is_available()\n",
        "    \n",
        "    if cuda:\n",
        "        with torch.no_grad():\n",
        "            output = model.forward(img_torch.cuda())\n",
        "    else:\n",
        "        with torch.no_grad():\n",
        "            output=model.forward(img_torch)\n",
        "        \n",
        "   \n",
        "    probability = F.softmax(output.data,dim=1)    \n",
        "\n",
        "    prob = torch.topk(probabilities, topk)[0].tolist()[0] # probabilities\n",
        "    index = torch.topk(probabilities, topk)[1].tolist()[0] # index\n",
        "    \n",
        "    ind = []\n",
        "    for i in range(len(model.class_to_idx.items())):\n",
        "        ind.append(list(model.class_to_idx.items())[i][0])\n",
        "\n",
        "    # transfer index to label\n",
        "    label = []\n",
        "    for i in range(5):\n",
        "        label.append(ind[index[i]])\n",
        "\n",
        "    return prob, label"
      ],
      "execution_count": 0,
      "outputs": []
    },
    {
      "cell_type": "code",
      "metadata": {
        "id": "W44c0kJG6lNM",
        "colab_type": "code",
        "colab": {}
      },
      "source": [
        "img = random.choice(os.listdir('drive/My Drive/Colab Notebooks/flower_data/test/25/'))\n",
        "img_path = 'drive/My Drive/Colab Notebooks/flower_data/test/25/' + img\n",
        "with  Image.open(img_path) as image:\n",
        "    plt.imshow(image)\n",
        "    \n",
        "prob, classes = predict(img_path, model)\n",
        "print(prob)\n",
        "print(classes)\n",
        "print([cat_to_name[x] for x in classes])"
      ],
      "execution_count": 0,
      "outputs": []
    }
  ]
}